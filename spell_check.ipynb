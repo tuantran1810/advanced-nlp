{
 "metadata": {
  "language_info": {
   "codemirror_mode": {
    "name": "ipython",
    "version": 3
   },
   "file_extension": ".py",
   "mimetype": "text/x-python",
   "name": "python",
   "nbconvert_exporter": "python",
   "pygments_lexer": "ipython3",
   "version": "3.7.9-final"
  },
  "orig_nbformat": 2,
  "kernelspec": {
   "name": "python3",
   "display_name": "Python 3.7.9 64-bit ('p37env-pt': conda)",
   "metadata": {
    "interpreter": {
     "hash": "1c0841b47c61ea53f4c8ce16f11312e9d184003e3106c5b2fa1afb0d03437e47"
    }
   }
  }
 },
 "nbformat": 4,
 "nbformat_minor": 2,
 "cells": [
  {
   "cell_type": "code",
   "execution_count": 1,
   "metadata": {},
   "outputs": [],
   "source": [
    "import numpy as np\n",
    "import torch\n",
    "import pickle\n",
    "from framework import CharInference\n",
    "from loguru import logger as log"
   ]
  },
  {
   "cell_type": "code",
   "execution_count": 2,
   "metadata": {},
   "outputs": [
    {
     "output_type": "execute_result",
     "data": {
      "text/plain": [
       "CharPredictionModel(\n",
       "  (_CharPredictionModel__emb): Embedding(115, 75)\n",
       "  (_CharPredictionModel__lstm): LSTM(75, 512)\n",
       "  (_CharPredictionModel__drop): Dropout(p=0.3, inplace=False)\n",
       "  (_CharPredictionModel__fc): Linear(in_features=512, out_features=115, bias=True)\n",
       ")"
      ]
     },
     "metadata": {},
     "execution_count": 2
    }
   ],
   "source": [
    "model = torch.load(\"./model-char-predictor/7.pt\")\n",
    "model.eval()"
   ]
  },
  {
   "cell_type": "code",
   "execution_count": 3,
   "metadata": {},
   "outputs": [
    {
     "output_type": "stream",
     "name": "stdout",
     "text": [
      "115\n"
     ]
    }
   ],
   "source": [
    "char_map = None\n",
    "with open(\"./char-map/char_inference.pkl\", \"rb\") as fd:\n",
    "    char_map = pickle.load(fd)\n",
    "print(char_map.vocab_size())\n",
    "\n",
    "seed = \"It is just a seed. \"\n",
    "def __do_spell_check(seed, sentence):\n",
    "    ci = CharInference(model, seed, char_map)\n",
    "    lst = ci.spellcheck(sentence)\n",
    "    if len(lst) == 0:\n",
    "        log.info(\"[SPELL CHECK] the sentence is correct!\")\n",
    "        return \n",
    "    \n",
    "    result = list(sentence)\n",
    "    for k in lst:\n",
    "        v = lst[k]\n",
    "        log.info(f\"[SPELL CHECK] suspect {k}th character, should be replaced by {v[0]}, confident: {v[1]}\")\n",
    "        result[k] = v[0]\n",
    "    log.info(f\"[SPELL CHECK] correct sentence: {''.join(result)}\")\n",
    "\n",
    "do_spell_check = lambda x: __do_spell_check(seed, x)"
   ]
  },
  {
   "cell_type": "code",
   "execution_count": 4,
   "metadata": {},
   "outputs": [
    {
     "output_type": "stream",
     "name": "stderr",
     "text": [
      "2020-12-06 22:36:21.314 | INFO     | __main__:__do_spell_check:11 - [SPELL CHECK] the sentence is correct!\n"
     ]
    }
   ],
   "source": [
    "do_spell_check(\"I am confident that there is no fault here\")"
   ]
  },
  {
   "cell_type": "code",
   "execution_count": 5,
   "metadata": {},
   "outputs": [
    {
     "output_type": "stream",
     "name": "stderr",
     "text": [
      "2020-12-06 22:36:21.416 | INFO     | __main__:__do_spell_check:17 - [SPELL CHECK] suspect 10 character, should be replaced by d, confident: 0.9996451139450073\n",
      "2020-12-06 22:36:21.417 | INFO     | __main__:__do_spell_check:17 - [SPELL CHECK] suspect 24 character, should be replaced by t, confident: 0.9596409201622009\n",
      "2020-12-06 22:36:21.418 | INFO     | __main__:__do_spell_check:19 - [SPELL CHECK] correct sentence: There would be some faults here\n"
     ]
    }
   ],
   "source": [
    "do_spell_check(\"There woult be some faulcs here\")"
   ]
  },
  {
   "cell_type": "code",
   "execution_count": 6,
   "metadata": {},
   "outputs": [
    {
     "output_type": "stream",
     "name": "stderr",
     "text": [
      "2020-12-06 22:36:21.514 | INFO     | __main__:__do_spell_check:17 - [SPELL CHECK] suspect 5 character, should be replaced by n, confident: 0.9746559262275696\n",
      "2020-12-06 22:36:21.515 | INFO     | __main__:__do_spell_check:17 - [SPELL CHECK] suspect 19 character, should be replaced by s, confident: 0.5782711505889893\n",
      "2020-12-06 22:36:21.516 | INFO     | __main__:__do_spell_check:17 - [SPELL CHECK] suspect 29 character, should be replaced by u, confident: 0.8734391331672668\n",
      "2020-12-06 22:36:21.516 | INFO     | __main__:__do_spell_check:17 - [SPELL CHECK] suspect 35 character, should be replaced by o, confident: 5.15088795509655e-05\n",
      "2020-12-06 22:36:21.519 | INFO     | __main__:__do_spell_check:17 - [SPELL CHECK] suspect 36 character, should be replaced by d, confident: 0.0007181518594734371\n",
      "2020-12-06 22:36:21.520 | INFO     | __main__:__do_spell_check:17 - [SPELL CHECK] suspect 37 character, should be replaced by s, confident: 0.002418212592601776\n",
      "2020-12-06 22:36:21.521 | INFO     | __main__:__do_spell_check:17 - [SPELL CHECK] suspect 38 character, should be replaced by t, confident: 0.028123237192630768\n",
      "2020-12-06 22:36:21.522 | INFO     | __main__:__do_spell_check:17 - [SPELL CHECK] suspect 39 character, should be replaced by e, confident: 0.5722444653511047\n",
      "2020-12-06 22:36:21.522 | INFO     | __main__:__do_spell_check:17 - [SPELL CHECK] suspect 40 character, should be replaced by d, confident: 0.1470503807067871\n",
      "2020-12-06 22:36:21.523 | INFO     | __main__:__do_spell_check:17 - [SPELL CHECK] suspect 41 character, should be replaced by s, confident: 0.0016555462498217821\n",
      "2020-12-06 22:36:21.523 | INFO     | __main__:__do_spell_check:17 - [SPELL CHECK] suspect 42 character, should be replaced by t, confident: 0.0003910544910468161\n",
      "2020-12-06 22:36:21.524 | INFO     | __main__:__do_spell_check:17 - [SPELL CHECK] suspect 52 character, should be replaced by t, confident: 0.9148508906364441\n",
      "2020-12-06 22:36:21.525 | INFO     | __main__:__do_spell_check:17 - [SPELL CHECK] suspect 61 character, should be replaced by i, confident: 0.005210228264331818\n",
      "2020-12-06 22:36:21.526 | INFO     | __main__:__do_spell_check:17 - [SPELL CHECK] suspect 62 character, should be replaced by r, confident: 0.9848238229751587\n",
      "2020-12-06 22:36:21.529 | INFO     | __main__:__do_spell_check:17 - [SPELL CHECK] suspect 63 character, should be replaced by s, confident: 0.00016656387015245855\n",
      "2020-12-06 22:36:21.531 | INFO     | __main__:__do_spell_check:17 - [SPELL CHECK] suspect 64 character, should be replaced by e, confident: 0.10192327946424484\n",
      "2020-12-06 22:36:21.532 | INFO     | __main__:__do_spell_check:17 - [SPELL CHECK] suspect 68 character, should be replaced by o, confident: 0.37269678711891174\n",
      "2020-12-06 22:36:21.532 | INFO     | __main__:__do_spell_check:17 - [SPELL CHECK] suspect 70 character, should be replaced by e, confident: 0.1035962924361229\n",
      "2020-12-06 22:36:21.532 | INFO     | __main__:__do_spell_check:17 - [SPELL CHECK] suspect 71 character, should be replaced by s, confident: 0.8317022323608398\n",
      "2020-12-06 22:36:21.533 | INFO     | __main__:__do_spell_check:19 - [SPELL CHECK] correct sentence: I think the model is good enough toodstedst the faults in theirseentoness\n"
     ]
    }
   ],
   "source": [
    "do_spell_check(\"I thirk the model iz good enoigh to predicz the faulcs in thesa sentencas\")"
   ]
  },
  {
   "cell_type": "code",
   "execution_count": null,
   "metadata": {},
   "outputs": [],
   "source": []
  }
 ]
}