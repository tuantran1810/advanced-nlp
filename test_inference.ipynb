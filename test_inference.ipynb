{
 "cells": [
  {
   "cell_type": "code",
   "execution_count": 1,
   "metadata": {},
   "outputs": [],
   "source": [
    "import numpy as np\n",
    "import torch\n",
    "import pickle\n",
    "from framework import CharInference"
   ]
  },
  {
   "cell_type": "code",
   "execution_count": 2,
   "metadata": {},
   "outputs": [
    {
     "output_type": "execute_result",
     "data": {
      "text/plain": [
       "CharPredictionModel(\n",
       "  (_CharPredictionModel__emb): Embedding(115, 75)\n",
       "  (_CharPredictionModel__lstm): LSTM(75, 512)\n",
       "  (_CharPredictionModel__drop): Dropout(p=0.3, inplace=False)\n",
       "  (_CharPredictionModel__fc): Linear(in_features=512, out_features=115, bias=True)\n",
       ")"
      ]
     },
     "metadata": {},
     "execution_count": 2
    }
   ],
   "source": [
    "model = torch.load(\"./model-char-predictor/7.pt\")\n",
    "model.eval()"
   ]
  },
  {
   "cell_type": "code",
   "execution_count": 3,
   "metadata": {},
   "outputs": [
    {
     "output_type": "stream",
     "name": "stdout",
     "text": [
      "115\n"
     ]
    }
   ],
   "source": [
    "char_map = None\n",
    "with open(\"./char-map/char_inference.pkl\", \"rb\") as fd:\n",
    "    char_map = pickle.load(fd)\n",
    "print(char_map.vocab_size())"
   ]
  },
  {
   "cell_type": "code",
   "execution_count": 7,
   "metadata": {},
   "outputs": [],
   "source": [
    "seed = \" \""
   ]
  },
  {
   "cell_type": "code",
   "execution_count": 8,
   "metadata": {},
   "outputs": [
    {
     "output_type": "stream",
     "name": "stdout",
     "text": [
      ";J0Q:--and through\ndrinking roof, and polute. Seated by air shined.\n\nHe would have been being during the less than to stars like the\nkind that lay greatly reflected at the Emperor had refused\nto put up over the senses than he was and for some reason.\n\n\"Come to it, Madam Mael, applied,\" he replied at Balashev that she could not\nreclat what was interrupting for the allusion, 'and the place\nwith the soldier for many men, who would have had the fish\nreceived the other girl that was a shine for confirms and may\nmean to observe the viviity of many years in astern to\nexceedingly as circumstance. But, a friend, or his\nmen will felt your deceiver and our very paleness akin\nappearance of the matisiaming brigs of notice, and talk of, you\nweartelled on Fatio's will; I should have supposed could not lean\nonly no perfect uncount! Rose were at trance of his belast\nfrom Paris a whale!” asked the first, holding Prince\nAlpatychs; lighting full peacefully round the\ntrippess handles, and the one ttable co\n"
     ]
    }
   ],
   "source": [
    "ci = CharInference(model, seed, char_map)\n",
    "lst = ci.infer(1000)\n",
    "print(''.join(lst))"
   ]
  },
  {
   "cell_type": "code",
   "execution_count": null,
   "metadata": {},
   "outputs": [],
   "source": []
  }
 ],
 "metadata": {
  "kernelspec": {
   "name": "python3",
   "display_name": "Python 3.7.9 64-bit ('p37env-pt': conda)",
   "metadata": {
    "interpreter": {
     "hash": "1c0841b47c61ea53f4c8ce16f11312e9d184003e3106c5b2fa1afb0d03437e47"
    }
   }
  },
  "language_info": {
   "codemirror_mode": {
    "name": "ipython",
    "version": 3
   },
   "file_extension": ".py",
   "mimetype": "text/x-python",
   "name": "python",
   "nbconvert_exporter": "python",
   "pygments_lexer": "ipython3",
   "version": "3.7.9-final"
  }
 },
 "nbformat": 4,
 "nbformat_minor": 4
}