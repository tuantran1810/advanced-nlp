{
 "cells": [
  {
   "cell_type": "code",
   "execution_count": 14,
   "metadata": {},
   "outputs": [],
   "source": [
    "import numpy as np\n",
    "import torch\n",
    "import pickle\n",
    "from framework import CharInference"
   ]
  },
  {
   "cell_type": "code",
   "execution_count": 24,
   "metadata": {},
   "outputs": [
    {
     "output_type": "execute_result",
     "data": {
      "text/plain": [
       "TextGeneratorModel(\n",
       "  (_TextGeneratorModel__emb): Embedding(108, 50)\n",
       "  (_TextGeneratorModel__lstm): LSTM(50, 256, num_layers=2, batch_first=True, dropout=0.1, bidirectional=True)\n",
       "  (_TextGeneratorModel__fc1): Linear(in_features=512, out_features=128, bias=True)\n",
       "  (_TextGeneratorModel__fc2): Linear(in_features=128, out_features=108, bias=True)\n",
       ")"
      ]
     },
     "metadata": {},
     "execution_count": 24
    }
   ],
   "source": [
    "model = torch.load(\"./model-text-generator/1.pt\")\n",
    "model.eval()"
   ]
  },
  {
   "cell_type": "code",
   "execution_count": 29,
   "metadata": {},
   "outputs": [
    {
     "output_type": "stream",
     "name": "stdout",
     "text": [
      "108\n"
     ]
    }
   ],
   "source": [
    "char_map = None\n",
    "with open(\"./char-map/text-generator.pkl\", \"rb\") as fd:\n",
    "    char_map = pickle.load(fd)\n",
    "print(char_map.vocab_size())"
   ]
  },
  {
   "cell_type": "code",
   "execution_count": 26,
   "metadata": {},
   "outputs": [],
   "source": [
    "seed = \"i want to fuck that bitch\""
   ]
  },
  {
   "cell_type": "code",
   "execution_count": 30,
   "metadata": {},
   "outputs": [
    {
     "output_type": "stream",
     "name": "stdout",
     "text": [
      "looaooaowoocoolaaawoaooizaheooabatotcaowaaonioaeoteaaoaaaaoaooitwosoaateo0aaaooaaaooaaawoaltaagottYgaaoaaooaootaaaaaaoitotaaaa?aaaatootaaiaotooaatoaaauaaoaohoaooaaaaalaaa_aauataaaotaawwë'oaatoaiYeausa\n"
     ]
    }
   ],
   "source": [
    "ci = CharInference(model, seed, char_map)\n",
    "lst = ci.infer(200)\n",
    "print(''.join(lst))"
   ]
  },
  {
   "cell_type": "code",
   "execution_count": null,
   "metadata": {},
   "outputs": [],
   "source": []
  }
 ],
 "metadata": {
  "kernelspec": {
   "name": "python3",
   "display_name": "Python 3.7.9 64-bit ('p37env-pt': conda)",
   "metadata": {
    "interpreter": {
     "hash": "1c0841b47c61ea53f4c8ce16f11312e9d184003e3106c5b2fa1afb0d03437e47"
    }
   }
  },
  "language_info": {
   "codemirror_mode": {
    "name": "ipython",
    "version": 3
   },
   "file_extension": ".py",
   "mimetype": "text/x-python",
   "name": "python",
   "nbconvert_exporter": "python",
   "pygments_lexer": "ipython3",
   "version": "3.7.9-final"
  }
 },
 "nbformat": 4,
 "nbformat_minor": 4
}