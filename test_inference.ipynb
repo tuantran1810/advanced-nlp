{
 "cells": [
  {
   "cell_type": "code",
   "execution_count": 25,
   "metadata": {},
   "outputs": [],
   "source": [
    "import numpy as np\n",
    "import torch\n",
    "import pickle\n",
    "from framework import CharInference"
   ]
  },
  {
   "cell_type": "code",
   "execution_count": 26,
   "metadata": {},
   "outputs": [
    {
     "output_type": "execute_result",
     "data": {
      "text/plain": [
       "TextGeneratorModel(\n",
       "  (_TextGeneratorModel__emb): Embedding(108, 50)\n",
       "  (_TextGeneratorModel__lstm): LSTM(50, 256, num_layers=2, batch_first=True, dropout=0.1, bidirectional=True)\n",
       "  (_TextGeneratorModel__fc1): Linear(in_features=512, out_features=128, bias=True)\n",
       "  (_TextGeneratorModel__fc2): Linear(in_features=128, out_features=108, bias=True)\n",
       ")"
      ]
     },
     "metadata": {},
     "execution_count": 26
    }
   ],
   "source": [
    "model = torch.load(\"./model-text-generator/0.pt\")\n",
    "model.eval()"
   ]
  },
  {
   "cell_type": "code",
   "execution_count": 27,
   "metadata": {},
   "outputs": [],
   "source": [
    "char_map = None\n",
    "with open(\"./char-map/text-generator.pkl\", \"rb\") as fd:\n",
    "    char_map = pickle.load(fd)"
   ]
  },
  {
   "cell_type": "code",
   "execution_count": 28,
   "metadata": {},
   "outputs": [],
   "source": [
    "seed = \"_3 May. Bistritz._--Left Munich at 8:35 P. M., on 1st May, arriving at Vienna early next morning; should have arrived at 6:46, but train was an hour late. Buda-Pesth seems a wonderful place, from the glimpse which I got of it from the train and the \""
   ]
  },
  {
   "cell_type": "code",
   "execution_count": 53,
   "metadata": {},
   "outputs": [
    {
     "output_type": "stream",
     "name": "stdout",
     "text": [
      "ch hhhhhh.he ehhheh  .eh ehah .e  e hhh ihhhhh h hhhhehahe ie hhh .ehh h hhhhhehhehh eheehehe. h h h\n"
     ]
    }
   ],
   "source": [
    "ci = CharInference(model, seed, char_map)\n",
    "lst = ci.infer(100)\n",
    "print(''.join(lst))"
   ]
  },
  {
   "cell_type": "code",
   "execution_count": 54,
   "metadata": {},
   "outputs": [
    {
     "output_type": "stream",
     "name": "stdout",
     "text": [
      "_3 May. Bistritz._--Left Munich at 8:35 P. M., on 1st May, arriving at Vienna early next morning; should have arrived at 6:46, but train was an hour late. Buda-Pesth seems a wonderful place, from the glimpse which I got of it from the train and the said and,, and whevelyhink and with hher. \n nef an he d\nnaw that,., and, hir, ander whyir strive tim\n"
     ]
    }
   ],
   "source": [
    "for _ in range(100):\n",
    "    ci = CharInference(model, seed[-249:], char_map)\n",
    "    lst = ci.infer(1)\n",
    "    seed += lst[0]\n",
    "print(seed)"
   ]
  },
  {
   "cell_type": "code",
   "execution_count": null,
   "metadata": {},
   "outputs": [],
   "source": []
  }
 ],
 "metadata": {
  "kernelspec": {
   "name": "python3",
   "display_name": "Python 3.7.9 64-bit ('p37env-pt': conda)",
   "metadata": {
    "interpreter": {
     "hash": "1c0841b47c61ea53f4c8ce16f11312e9d184003e3106c5b2fa1afb0d03437e47"
    }
   }
  },
  "language_info": {
   "codemirror_mode": {
    "name": "ipython",
    "version": 3
   },
   "file_extension": ".py",
   "mimetype": "text/x-python",
   "name": "python",
   "nbconvert_exporter": "python",
   "pygments_lexer": "ipython3",
   "version": "3.7.9-final"
  }
 },
 "nbformat": 4,
 "nbformat_minor": 4
}