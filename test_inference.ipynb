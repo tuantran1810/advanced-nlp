{
 "cells": [
  {
   "cell_type": "code",
   "execution_count": 1,
   "metadata": {},
   "outputs": [],
   "source": [
    "import numpy as np\n",
    "import torch\n",
    "import pickle\n",
    "from framework import CharInference"
   ]
  },
  {
   "cell_type": "code",
   "execution_count": 32,
   "metadata": {},
   "outputs": [
    {
     "output_type": "execute_result",
     "data": {
      "text/plain": [
       "CharPredictionModel(\n",
       "  (_CharPredictionModel__emb): Embedding(108, 50)\n",
       "  (_CharPredictionModel__lstm): LSTM(50, 512)\n",
       "  (_CharPredictionModel__drop): Dropout(p=0.15, inplace=False)\n",
       "  (_CharPredictionModel__fc): Linear(in_features=512, out_features=108, bias=True)\n",
       ")"
      ]
     },
     "metadata": {},
     "execution_count": 32
    }
   ],
   "source": [
    "model = torch.load(\"./model-char-predictor/15.pt\", map_location=torch.device('cpu'))\n",
    "model.eval()"
   ]
  },
  {
   "cell_type": "code",
   "execution_count": 33,
   "metadata": {},
   "outputs": [],
   "source": [
    "char_map = None\n",
    "with open(\"./char-map/char_inference.pkl\", \"rb\") as fd:\n",
    "    char_map = pickle.load(fd)"
   ]
  },
  {
   "cell_type": "code",
   "execution_count": 48,
   "metadata": {},
   "outputs": [],
   "source": [
    "seed = \"\""
   ]
  },
  {
   "cell_type": "code",
   "execution_count": 49,
   "metadata": {},
   "outputs": [
    {
     "output_type": "stream",
     "name": "stdout",
     "text": [
      "rn and the strange streets\nof the streets of the streets of the streets of the strain of the\nstreets, and the strained whale was a strange street at the\ncountry of the streets of the streets of the st\n"
     ]
    }
   ],
   "source": [
    "ci = CharInference(model, seed, char_map)\n",
    "lst = ci.infer(200)\n",
    "print(''.join(lst))"
   ]
  },
  {
   "cell_type": "code",
   "execution_count": null,
   "metadata": {},
   "outputs": [],
   "source": []
  }
 ],
 "metadata": {
  "kernelspec": {
   "name": "python3",
   "display_name": "Python 3.7.9 64-bit ('p37env-gans': conda)",
   "metadata": {
    "interpreter": {
     "hash": "d38b3ff0a780bd6f501b1afcd6a16a667b3f7edbc1a013b12a168645535faea5"
    }
   }
  },
  "language_info": {
   "codemirror_mode": {
    "name": "ipython",
    "version": 3
   },
   "file_extension": ".py",
   "mimetype": "text/x-python",
   "name": "python",
   "nbconvert_exporter": "python",
   "pygments_lexer": "ipython3",
   "version": "3.7.9-final"
  }
 },
 "nbformat": 4,
 "nbformat_minor": 4
}